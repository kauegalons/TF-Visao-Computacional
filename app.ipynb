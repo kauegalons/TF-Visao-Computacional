{
 "cells": [
  {
   "cell_type": "code",
   "execution_count": null,
   "id": "5f93dd11",
   "metadata": {
    "vscode": {
     "languageId": "plaintext"
    }
   },
   "outputs": [],
   "source": [
    "import cv2\n",
    "import numpy as np\n",
    "import matplotlib.pyplot as plt\n",
    "from sklearn.metrics import classification_report, confusion_matrix\n",
    "from tensorflow.keras.models import Sequential\n",
    "from tensorflow.keras.layers import Conv2D, MaxPooling2D, Flatten, Dense\n",
    "from tensorflow.keras.utils import to_categorical\n",
    "from tensorflow.keras.datasets import cifar10\n"
   ]
  },
  {
   "cell_type": "code",
   "execution_count": null,
   "id": "bac72c4f",
   "metadata": {
    "vscode": {
     "languageId": "plaintext"
    }
   },
   "outputs": [],
   "source": [
    "# Substitua por sua própria imagem de prateleira\n",
    "img = cv2.imread(\"img_prateleira.jpg\")\n",
    "img = cv2.resize(img, (256, 256))\n",
    "blurred = cv2.GaussianBlur(img, (5, 5), 0)\n",
    "ycrcb = cv2.cvtColor(blurred, cv2.COLOR_BGR2YCrCb)\n",
    "ycrcb[:, :, 0] = cv2.equalizeHist(ycrcb[:, :, 0])\n",
    "equalized = cv2.cvtColor(ycrcb, cv2.COLOR_YCrCb2BGR)\n",
    "\n",
    "# Visualização\n",
    "plt.imshow(cv2.cvtColor(equalized, cv2.COLOR_BGR2RGB))\n",
    "plt.title(\"Imagem Equalizada\")\n",
    "plt.axis('off')\n",
    "plt.show()\n"
   ]
  },
  {
   "cell_type": "code",
   "execution_count": null,
   "id": "5f7ca6fc",
   "metadata": {
    "vscode": {
     "languageId": "plaintext"
    }
   },
   "outputs": [],
   "source": [
    "gray = cv2.cvtColor(equalized, cv2.COLOR_BGR2GRAY)\n",
    "_, thresh = cv2.threshold(gray, 120, 255, cv2.THRESH_BINARY)\n",
    "edges = cv2.Canny(thresh, 100, 200)\n",
    "\n",
    "plt.imshow(edges, cmap='gray')\n",
    "plt.title(\"Detecção de Bordas\")\n",
    "plt.axis('off')\n",
    "plt.show()\n"
   ]
  },
  {
   "cell_type": "code",
   "execution_count": null,
   "id": "239b090b",
   "metadata": {
    "vscode": {
     "languageId": "plaintext"
    }
   },
   "outputs": [],
   "source": [
    "orb = cv2.ORB_create()\n",
    "kp, des = orb.detectAndCompute(gray, None)\n",
    "img_kp = cv2.drawKeypoints(equalized, kp, None, color=(0,255,0))\n",
    "\n",
    "plt.imshow(cv2.cvtColor(img_kp, cv2.COLOR_BGR2RGB))\n",
    "plt.title(\"Pontos-chave (ORB)\")\n",
    "plt.axis('off')\n",
    "plt.show()\n"
   ]
  },
  {
   "cell_type": "code",
   "execution_count": null,
   "id": "90e44ea4",
   "metadata": {
    "vscode": {
     "languageId": "plaintext"
    }
   },
   "outputs": [],
   "source": [
    "M = cv2.getRotationMatrix2D((128, 128), 30, 1.0)\n",
    "rotated = cv2.warpAffine(equalized, M, (256, 256))\n",
    "\n",
    "plt.imshow(cv2.cvtColor(rotated, cv2.COLOR_BGR2RGB))\n",
    "plt.title(\"Imagem Rotacionada\")\n",
    "plt.axis('off')\n",
    "plt.show()\n"
   ]
  },
  {
   "cell_type": "code",
   "execution_count": null,
   "id": "8f7854a7",
   "metadata": {
    "vscode": {
     "languageId": "plaintext"
    }
   },
   "outputs": [],
   "source": [
    "(x_train, y_train), (x_test, y_test) = cifar10.load_data()\n",
    "x_train, x_test = x_train / 255.0, x_test / 255.0\n",
    "y_train_cat = to_categorical(y_train, 10)\n",
    "y_test_cat = to_categorical(y_test, 10)\n",
    "\n",
    "model = Sequential([\n",
    "    Conv2D(32, (3,3), activation='relu', input_shape=(32,32,3)),\n",
    "    MaxPooling2D(2,2),\n",
    "    Conv2D(64, (3,3), activation='relu'),\n",
    "    MaxPooling2D(2,2),\n",
    "    Flatten(),\n",
    "    Dense(64, activation='relu'),\n",
    "    Dense(10, activation='softmax')\n",
    "])\n",
    "\n",
    "model.compile(optimizer='adam', loss='categorical_crossentropy', metrics=['accuracy'])\n",
    "model.fit(x_train, y_train_cat, epochs=3, validation_data=(x_test, y_test_cat))\n"
   ]
  },
  {
   "cell_type": "code",
   "execution_count": null,
   "id": "0bcf605e",
   "metadata": {
    "vscode": {
     "languageId": "plaintext"
    }
   },
   "outputs": [],
   "source": [
    "loss, acc = model.evaluate(x_test, y_test_cat)\n",
    "print(f\"Acurácia: {acc*100:.2f}%\")\n",
    "\n",
    "preds = model.predict(x_test[:100])\n",
    "y_pred = np.argmax(preds, axis=1)\n",
    "y_true = y_test[:100].flatten()\n",
    "\n",
    "print(\"Relatório de Classificação:\")\n",
    "print(classification_report(y_true, y_pred))\n"
   ]
  }
 ],
 "metadata": {
  "language_info": {
   "name": "python"
  }
 },
 "nbformat": 4,
 "nbformat_minor": 5
}
